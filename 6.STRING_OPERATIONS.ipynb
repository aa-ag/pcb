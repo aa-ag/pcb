{
 "cells": [
  {
   "cell_type": "code",
   "execution_count": 1,
   "metadata": {},
   "outputs": [
    {
     "name": "stderr",
     "output_type": "stream",
     "text": [
      "Matplotlib created a temporary config/cache directory at /var/folders/8_/293n4n_n7kx7d2svh9g222640000gn/T/matplotlib-i507sapq because the default path (/Users/aaronaguerrevere/.matplotlib) is not a writable directory; it is highly recommended to set the MPLCONFIGDIR environment variable to a writable directory, in particular to speed up the import of Matplotlib and to better support multiprocessing.\n"
     ]
    }
   ],
   "source": [
    "# imports\n",
    "import pandas as pd\n",
    "import matplotlib.pyplot as plt\n",
    "import numpy as np"
   ]
  },
  {
   "cell_type": "code",
   "execution_count": 2,
   "metadata": {},
   "outputs": [
    {
     "name": "stdout",
     "output_type": "stream",
     "text": [
      "['Solarize_Light2', '_classic_test_patch', 'bmh', 'classic', 'dark_background', 'fast', 'fivethirtyeight', 'ggplot', 'grayscale', 'seaborn', 'seaborn-bright', 'seaborn-colorblind', 'seaborn-dark', 'seaborn-dark-palette', 'seaborn-darkgrid', 'seaborn-deep', 'seaborn-muted', 'seaborn-notebook', 'seaborn-paper', 'seaborn-pastel', 'seaborn-poster', 'seaborn-talk', 'seaborn-ticks', 'seaborn-white', 'seaborn-whitegrid', 'tableau-colorblind10']\n"
     ]
    }
   ],
   "source": [
    "print(plt.style.available)"
   ]
  },
  {
   "cell_type": "raw",
   "metadata": {},
   "source": [
    "plt.style.use('ggplot')\n",
    "plt.rcParams['figure.figsize'] = (15, 3)\n",
    "plt.rcParams['font.family'] = 'sans-serif'"
   ]
  },
  {
   "cell_type": "code",
   "execution_count": 10,
   "metadata": {},
   "outputs": [
    {
     "data": {
      "text/html": [
       "<div>\n",
       "<style scoped>\n",
       "    .dataframe tbody tr th:only-of-type {\n",
       "        vertical-align: middle;\n",
       "    }\n",
       "\n",
       "    .dataframe tbody tr th {\n",
       "        vertical-align: top;\n",
       "    }\n",
       "\n",
       "    .dataframe thead th {\n",
       "        text-align: right;\n",
       "    }\n",
       "</style>\n",
       "<table border=\"1\" class=\"dataframe\">\n",
       "  <thead>\n",
       "    <tr style=\"text-align: right;\">\n",
       "      <th></th>\n",
       "      <th>Longitude (x)</th>\n",
       "      <th>Latitude (y)</th>\n",
       "      <th>Station Name</th>\n",
       "      <th>Climate ID</th>\n",
       "      <th>Year</th>\n",
       "      <th>Month</th>\n",
       "      <th>Day</th>\n",
       "      <th>Time (LST)</th>\n",
       "      <th>Temp (°C)</th>\n",
       "      <th>Dew Point Temp (°C)</th>\n",
       "      <th>Rel Hum (%)</th>\n",
       "      <th>Wind Spd (km/h)</th>\n",
       "      <th>Visibility (km)</th>\n",
       "      <th>Stn Press (kPa)</th>\n",
       "      <th>Weather</th>\n",
       "    </tr>\n",
       "    <tr>\n",
       "      <th>Date/Time (LST)</th>\n",
       "      <th></th>\n",
       "      <th></th>\n",
       "      <th></th>\n",
       "      <th></th>\n",
       "      <th></th>\n",
       "      <th></th>\n",
       "      <th></th>\n",
       "      <th></th>\n",
       "      <th></th>\n",
       "      <th></th>\n",
       "      <th></th>\n",
       "      <th></th>\n",
       "      <th></th>\n",
       "      <th></th>\n",
       "      <th></th>\n",
       "    </tr>\n",
       "  </thead>\n",
       "  <tbody>\n",
       "    <tr>\n",
       "      <th>2012-12-31 19:00:00</th>\n",
       "      <td>-73.75</td>\n",
       "      <td>45.47</td>\n",
       "      <td>MONTREAL/PIERRE ELLIOTT TRUDEAU INTL A</td>\n",
       "      <td>7025250</td>\n",
       "      <td>2012</td>\n",
       "      <td>12</td>\n",
       "      <td>31</td>\n",
       "      <td>19:00</td>\n",
       "      <td>0.1</td>\n",
       "      <td>-2.7</td>\n",
       "      <td>81</td>\n",
       "      <td>30</td>\n",
       "      <td>9.7</td>\n",
       "      <td>100.13</td>\n",
       "      <td>Snow</td>\n",
       "    </tr>\n",
       "    <tr>\n",
       "      <th>2012-12-31 20:00:00</th>\n",
       "      <td>-73.75</td>\n",
       "      <td>45.47</td>\n",
       "      <td>MONTREAL/PIERRE ELLIOTT TRUDEAU INTL A</td>\n",
       "      <td>7025250</td>\n",
       "      <td>2012</td>\n",
       "      <td>12</td>\n",
       "      <td>31</td>\n",
       "      <td>20:00</td>\n",
       "      <td>0.2</td>\n",
       "      <td>-2.4</td>\n",
       "      <td>83</td>\n",
       "      <td>24</td>\n",
       "      <td>9.7</td>\n",
       "      <td>100.03</td>\n",
       "      <td>Snow</td>\n",
       "    </tr>\n",
       "    <tr>\n",
       "      <th>2012-12-31 21:00:00</th>\n",
       "      <td>-73.75</td>\n",
       "      <td>45.47</td>\n",
       "      <td>MONTREAL/PIERRE ELLIOTT TRUDEAU INTL A</td>\n",
       "      <td>7025250</td>\n",
       "      <td>2012</td>\n",
       "      <td>12</td>\n",
       "      <td>31</td>\n",
       "      <td>21:00</td>\n",
       "      <td>-0.5</td>\n",
       "      <td>-1.5</td>\n",
       "      <td>93</td>\n",
       "      <td>28</td>\n",
       "      <td>4.8</td>\n",
       "      <td>99.95</td>\n",
       "      <td>Snow</td>\n",
       "    </tr>\n",
       "    <tr>\n",
       "      <th>2012-12-31 22:00:00</th>\n",
       "      <td>-73.75</td>\n",
       "      <td>45.47</td>\n",
       "      <td>MONTREAL/PIERRE ELLIOTT TRUDEAU INTL A</td>\n",
       "      <td>7025250</td>\n",
       "      <td>2012</td>\n",
       "      <td>12</td>\n",
       "      <td>31</td>\n",
       "      <td>22:00</td>\n",
       "      <td>-0.2</td>\n",
       "      <td>-1.8</td>\n",
       "      <td>89</td>\n",
       "      <td>28</td>\n",
       "      <td>9.7</td>\n",
       "      <td>99.91</td>\n",
       "      <td>Snow</td>\n",
       "    </tr>\n",
       "    <tr>\n",
       "      <th>2012-12-31 23:00:00</th>\n",
       "      <td>-73.75</td>\n",
       "      <td>45.47</td>\n",
       "      <td>MONTREAL/PIERRE ELLIOTT TRUDEAU INTL A</td>\n",
       "      <td>7025250</td>\n",
       "      <td>2012</td>\n",
       "      <td>12</td>\n",
       "      <td>31</td>\n",
       "      <td>23:00</td>\n",
       "      <td>0.0</td>\n",
       "      <td>-2.1</td>\n",
       "      <td>86</td>\n",
       "      <td>30</td>\n",
       "      <td>11.3</td>\n",
       "      <td>99.89</td>\n",
       "      <td>Snow</td>\n",
       "    </tr>\n",
       "  </tbody>\n",
       "</table>\n",
       "</div>"
      ],
      "text/plain": [
       "                     Longitude (x)  Latitude (y)  \\\n",
       "Date/Time (LST)                                    \n",
       "2012-12-31 19:00:00         -73.75         45.47   \n",
       "2012-12-31 20:00:00         -73.75         45.47   \n",
       "2012-12-31 21:00:00         -73.75         45.47   \n",
       "2012-12-31 22:00:00         -73.75         45.47   \n",
       "2012-12-31 23:00:00         -73.75         45.47   \n",
       "\n",
       "                                               Station Name  Climate ID  Year  \\\n",
       "Date/Time (LST)                                                                 \n",
       "2012-12-31 19:00:00  MONTREAL/PIERRE ELLIOTT TRUDEAU INTL A     7025250  2012   \n",
       "2012-12-31 20:00:00  MONTREAL/PIERRE ELLIOTT TRUDEAU INTL A     7025250  2012   \n",
       "2012-12-31 21:00:00  MONTREAL/PIERRE ELLIOTT TRUDEAU INTL A     7025250  2012   \n",
       "2012-12-31 22:00:00  MONTREAL/PIERRE ELLIOTT TRUDEAU INTL A     7025250  2012   \n",
       "2012-12-31 23:00:00  MONTREAL/PIERRE ELLIOTT TRUDEAU INTL A     7025250  2012   \n",
       "\n",
       "                     Month  Day Time (LST)  Temp (°C)  Dew Point Temp (°C)  \\\n",
       "Date/Time (LST)                                                              \n",
       "2012-12-31 19:00:00     12   31      19:00        0.1                 -2.7   \n",
       "2012-12-31 20:00:00     12   31      20:00        0.2                 -2.4   \n",
       "2012-12-31 21:00:00     12   31      21:00       -0.5                 -1.5   \n",
       "2012-12-31 22:00:00     12   31      22:00       -0.2                 -1.8   \n",
       "2012-12-31 23:00:00     12   31      23:00        0.0                 -2.1   \n",
       "\n",
       "                     Rel Hum (%)  Wind Spd (km/h)  Visibility (km)  \\\n",
       "Date/Time (LST)                                                      \n",
       "2012-12-31 19:00:00           81               30              9.7   \n",
       "2012-12-31 20:00:00           83               24              9.7   \n",
       "2012-12-31 21:00:00           93               28              4.8   \n",
       "2012-12-31 22:00:00           89               28              9.7   \n",
       "2012-12-31 23:00:00           86               30             11.3   \n",
       "\n",
       "                     Stn Press (kPa) Weather  \n",
       "Date/Time (LST)                               \n",
       "2012-12-31 19:00:00           100.13    Snow  \n",
       "2012-12-31 20:00:00           100.03    Snow  \n",
       "2012-12-31 21:00:00            99.95    Snow  \n",
       "2012-12-31 22:00:00            99.91    Snow  \n",
       "2012-12-31 23:00:00            99.89    Snow  "
      ]
     },
     "execution_count": 10,
     "metadata": {},
     "output_type": "execute_result"
    }
   ],
   "source": [
    "weather_2012 = pd.read_csv('all_data_re_weather_2012.csv', parse_dates=True, index_col='Date/Time (LST)')\n",
    "weather_2012.tail()"
   ]
  },
  {
   "cell_type": "code",
   "execution_count": 12,
   "metadata": {},
   "outputs": [
    {
     "data": {
      "text/plain": [
       "Date/Time (LST)\n",
       "2012-01-01 00:00:00    False\n",
       "2012-01-01 01:00:00    False\n",
       "2012-01-01 02:00:00    False\n",
       "2012-01-01 03:00:00    False\n",
       "2012-01-01 04:00:00    False\n",
       "                       ...  \n",
       "2012-12-31 19:00:00     True\n",
       "2012-12-31 20:00:00     True\n",
       "2012-12-31 21:00:00     True\n",
       "2012-12-31 22:00:00     True\n",
       "2012-12-31 23:00:00     True\n",
       "Name: Weather, Length: 8784, dtype: bool"
      ]
     },
     "execution_count": 12,
     "metadata": {},
     "output_type": "execute_result"
    }
   ],
   "source": [
    "weather_description = weather_2012['Weather']\n",
    "is_snowing = weather_description.str.contains('Snow')\n",
    "\n",
    "is_snowing"
   ]
  },
  {
   "cell_type": "code",
   "execution_count": null,
   "metadata": {},
   "outputs": [],
   "source": []
  }
 ],
 "metadata": {
  "kernelspec": {
   "display_name": "Python 3 (ipykernel)",
   "language": "python",
   "name": "python3"
  },
  "language_info": {
   "codemirror_mode": {
    "name": "ipython",
    "version": 3
   },
   "file_extension": ".py",
   "mimetype": "text/x-python",
   "name": "python",
   "nbconvert_exporter": "python",
   "pygments_lexer": "ipython3",
   "version": "3.9.6"
  }
 },
 "nbformat": 4,
 "nbformat_minor": 4
}
